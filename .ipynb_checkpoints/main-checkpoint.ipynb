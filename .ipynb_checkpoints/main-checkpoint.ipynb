{
 "cells": [
  {
   "cell_type": "code",
   "execution_count": 1,
   "metadata": {
    "ExecuteTime": {
     "end_time": "2021-06-16T01:47:01.601677Z",
     "start_time": "2021-06-16T01:47:00.984770Z"
    }
   },
   "outputs": [],
   "source": [
    "import sys\n",
    "from calldb import CallDB\n",
    "\n",
    "\n",
    "req_id = 'rq0001'\n",
    "\n",
    "suitability = CallDB(\"pro_carrier_suitability_assessment\")\n",
    "request = suitability.from_db(f\"\"\"\n",
    "SELECT * \n",
    "FROM pro_carrier_suitability_assessment.request \n",
    "WHERE req_id = \"{req_id}\"\n",
    ";\n",
    "\"\"\")\n",
    "\n",
    "drug_name = request.loc[0, 'drug_name']\n",
    "smiles = request.loc[0, 'smiles']\n",
    "protein_name = request.loc[0, 'protein_name']\n",
    "sequence = request.loc[0, 'sequence']\n",
    "weight = request.loc[0, 'weight']\n",
    "\n",
    "##################\n",
    "# 타겟 약물이 친수성인지 소수성인지 확인\n",
    "from polarity import Polarity\n",
    "polarity = Polarity(smiles)"
   ]
  },
  {
   "cell_type": "code",
   "execution_count": 2,
   "metadata": {
    "ExecuteTime": {
     "end_time": "2021-06-16T01:47:02.021667Z",
     "start_time": "2021-06-16T01:47:01.603654Z"
    }
   },
   "outputs": [],
   "source": [
    "##################\n",
    "# 타겟 약물 인코딩\n",
    "import numpy as np\n",
    "import torch\n",
    "from rdkit import Chem\n",
    "from rdkit.Chem import AllChem\n",
    "\n",
    "drug_m = Chem.MolFromSmiles(smiles)\n",
    "drug_fp = torch.tensor(np.array(AllChem.GetMorganFingerprintAsBitVect(drug_m, 3, nBits=1024)), dtype=torch.float32)"
   ]
  },
  {
   "cell_type": "code",
   "execution_count": 3,
   "metadata": {
    "ExecuteTime": {
     "end_time": "2021-06-16T01:47:02.273329Z",
     "start_time": "2021-06-16T01:47:02.024136Z"
    }
   },
   "outputs": [],
   "source": [
    "# 전달체 후보군 finger print 불러오기\n",
    "call_db = CallDB('pro_carrier_suitability_assessment')\n",
    "pol_matched = call_db.from_db(f\"\"\"\n",
    "SELECT Drugbank_ID, name, finger_print, block_type, block_score, SMILES\n",
    "FROM pro_carrier_suitability_assessment.block_type_library \n",
    "WHERE block_type = {polarity};\n",
    "\"\"\")\n",
    "pol_matched = pol_matched[['Drugbank_ID', 'name', 'finger_print', 'block_type', 'block_score', 'SMILES']]\n",
    "\n",
    "carrier_fp = []\n",
    "for i, (_, _, fp, _, _, _) in pol_matched.iterrows():\n",
    "    carrier_fp.append(np.fromstring(fp.replace('', ' '), dtype=int, sep=' '))\n",
    "    \n",
    "carrier_fp = torch.tensor(carrier_fp, dtype=torch.float32)"
   ]
  },
  {
   "cell_type": "code",
   "execution_count": 4,
   "metadata": {
    "ExecuteTime": {
     "end_time": "2021-06-16T01:47:02.360800Z",
     "start_time": "2021-06-16T01:47:02.275375Z"
    },
    "scrolled": false
   },
   "outputs": [
    {
     "name": "stderr",
     "output_type": "stream",
     "text": [
      "/BiO/projects/polarity/carrier_suitability_assessment/DDI_runner.py:27: UserWarning: To copy construct from a tensor, it is recommended to use sourceTensor.clone().detach() or sourceTensor.clone().detach().requires_grad_(True), rather than torch.tensor(sourceTensor).\n",
      "  combi_data = carrier_fp + torch.tensor(drug_fp, dtype=torch.float32)\n"
     ]
    }
   ],
   "source": [
    "import DDI_runner\n",
    "\n",
    "ddi_pred = DDI_runner.run(drug_fp, carrier_fp)\n",
    "ddi_pred = list(np.array(ddi_pred.detach()))"
   ]
  },
  {
   "cell_type": "code",
   "execution_count": 5,
   "metadata": {
    "ExecuteTime": {
     "end_time": "2021-06-16T01:47:02.417947Z",
     "start_time": "2021-06-16T01:47:02.362785Z"
    }
   },
   "outputs": [],
   "source": [
    "# DDI 결과를 바탕으로 BA 계산할 전달체 후보 추출\n",
    "interaction = CallDB(\"pro_drug_drug_interaction\")\n",
    "inter_dict = interaction.from_db(\"\"\"\n",
    "SELECT *\n",
    "FROM pro_drug_drug_interaction.interaction_dictionary\n",
    ";\n",
    "\"\"\")\n",
    "\n",
    "import pandas as pd\n",
    "ddi_type = pd.DataFrame(np.array(inter_dict[['label', 'interaction_type']].iloc[ddi_pred]), columns=['label', 'interaction_type'])   # interaction 점수 가져오기\n",
    "ddi_matched = pol_matched[['Drugbank_ID', 'finger_print', 'SMILES']].iloc[list(ddi_type.index[ddi_type['interaction_type']==2])]   # 만족하는 점수만 선택\n",
    "\n",
    "carrier_fp = []    # carrier_fp 여기서 다시 초기화\n",
    "for i, (id, fp, _) in ddi_matched.iterrows():\n",
    "    carrier_fp.append(np.fromstring(fp.replace('', ' '), dtype=int, sep=' '))\n",
    "    \n",
    "carrier_fp = torch.tensor(carrier_fp, dtype=torch.float32)"
   ]
  },
  {
   "cell_type": "code",
   "execution_count": 6,
   "metadata": {
    "ExecuteTime": {
     "end_time": "2021-06-16T01:47:02.430618Z",
     "start_time": "2021-06-16T01:47:02.419748Z"
    }
   },
   "outputs": [],
   "source": [
    "# 타겟 단백질 인코딩\n",
    "amino_dict = {s: i for i, s in enumerate(list('ACDEFGHIKLMNOPQRSTVWXY'))}\n",
    "sequence_embd = [amino_dict[c] for c in sequence.upper()]\n",
    "\n",
    "max_len = 10000\n",
    "for i in range(max_len - len(sequence_embd)):\n",
    "    sequence_embd.append(0)\n",
    "\n",
    "sequence_embd = torch.tensor(sequence_embd, dtype=torch.float32)[:2048].view(1, 2048)\n",
    "sequence_temp = torch.tensor([], dtype=torch.float32).view(0, 2048)\n",
    "\n",
    "for i in range(len(carrier_fp)):\n",
    "    sequence_temp = torch.cat([sequence_temp, sequence_embd], dim=0)\n",
    "sequence_embd = sequence_temp"
   ]
  },
  {
   "cell_type": "code",
   "execution_count": 7,
   "metadata": {
    "ExecuteTime": {
     "end_time": "2021-06-16T01:47:02.592731Z",
     "start_time": "2021-06-16T01:47:02.432207Z"
    }
   },
   "outputs": [],
   "source": [
    "# Binding_affinity 예측\n",
    "import BA_runner\n",
    "\n",
    "ba_pred = BA_runner.run(carrier_fp, sequence_embd, len(carrier_fp))\n",
    "ba_pred = np.round(np.array(ba_pred.detach()), 4)\n",
    "ba_pred = np.where(ba_pred < 0, 0.0001, ba_pred)"
   ]
  },
  {
   "cell_type": "code",
   "execution_count": 8,
   "metadata": {
    "ExecuteTime": {
     "end_time": "2021-06-16T01:47:02.632140Z",
     "start_time": "2021-06-16T01:47:02.597976Z"
    }
   },
   "outputs": [],
   "source": [
    "# DB_result에 삽입할 DF 만들기\n",
    "drugbank_id = pd.DataFrame(ddi_matched['Drugbank_ID'], columns=['Drugbank_ID'])\n",
    "result = drugbank_id\n",
    "pol_result = pol_matched\n",
    "\n",
    "ddi_result1 = ddi_type[ddi_type['interaction_type']==2]\n",
    "\n",
    "ddi_result2 = inter_dict.iloc[list(ddi_type[ddi_type['interaction_type']==2]['label'])][['label', 'interaction']]\n",
    "ddi_result2 = pd.DataFrame(np.array(ddi_result2), columns=['label', 'interaction'])\n",
    "\n",
    "ba_result = pd.DataFrame(ba_pred, columns=['ic50', 'ec50'])\n",
    "\n",
    "request_id = pd.DataFrame({'req_id' : [req_id for i in range(len(result))]})"
   ]
  },
  {
   "cell_type": "code",
   "execution_count": 9,
   "metadata": {
    "ExecuteTime": {
     "end_time": "2021-06-16T01:47:02.696293Z",
     "start_time": "2021-06-16T01:47:02.635080Z"
    }
   },
   "outputs": [
    {
     "data": {
      "text/html": [
       "<div>\n",
       "<style scoped>\n",
       "    .dataframe tbody tr th:only-of-type {\n",
       "        vertical-align: middle;\n",
       "    }\n",
       "\n",
       "    .dataframe tbody tr th {\n",
       "        vertical-align: top;\n",
       "    }\n",
       "\n",
       "    .dataframe thead th {\n",
       "        text-align: right;\n",
       "    }\n",
       "</style>\n",
       "<table border=\"1\" class=\"dataframe\">\n",
       "  <thead>\n",
       "    <tr style=\"text-align: right;\">\n",
       "      <th></th>\n",
       "      <th>req_id</th>\n",
       "      <th>Drugbank_ID</th>\n",
       "      <th>name</th>\n",
       "      <th>block_type</th>\n",
       "      <th>block_score</th>\n",
       "      <th>interaction</th>\n",
       "      <th>interaction_type</th>\n",
       "      <th>ic50</th>\n",
       "      <th>ec50</th>\n",
       "    </tr>\n",
       "  </thead>\n",
       "  <tbody>\n",
       "    <tr>\n",
       "      <th>0</th>\n",
       "      <td>rq0001</td>\n",
       "      <td>DB00413</td>\n",
       "      <td>Pramipexole</td>\n",
       "      <td>2</td>\n",
       "      <td>1.22560</td>\n",
       "      <td>B may increase the sedative activities of A.</td>\n",
       "      <td>2</td>\n",
       "      <td>44.600899</td>\n",
       "      <td>7.303200</td>\n",
       "    </tr>\n",
       "    <tr>\n",
       "      <th>1</th>\n",
       "      <td>rq0001</td>\n",
       "      <td>DB01255</td>\n",
       "      <td>Lisdexamfetamine</td>\n",
       "      <td>2</td>\n",
       "      <td>1.52347</td>\n",
       "      <td>A may decrease the sedative and stimulatory ac...</td>\n",
       "      <td>2</td>\n",
       "      <td>135.096695</td>\n",
       "      <td>21.860600</td>\n",
       "    </tr>\n",
       "    <tr>\n",
       "      <th>2</th>\n",
       "      <td>rq0001</td>\n",
       "      <td>DB01299</td>\n",
       "      <td>Sulfadoxine</td>\n",
       "      <td>2</td>\n",
       "      <td>1.32545</td>\n",
       "      <td>The therapeutic efficacy of A can be increased...</td>\n",
       "      <td>2</td>\n",
       "      <td>143.170807</td>\n",
       "      <td>9.033300</td>\n",
       "    </tr>\n",
       "    <tr>\n",
       "      <th>3</th>\n",
       "      <td>rq0001</td>\n",
       "      <td>DB04794</td>\n",
       "      <td>Bifonazole</td>\n",
       "      <td>2</td>\n",
       "      <td>1.23374</td>\n",
       "      <td>The therapeutic efficacy of A can be increased...</td>\n",
       "      <td>2</td>\n",
       "      <td>182.294907</td>\n",
       "      <td>14.496400</td>\n",
       "    </tr>\n",
       "    <tr>\n",
       "      <th>4</th>\n",
       "      <td>rq0001</td>\n",
       "      <td>DB06636</td>\n",
       "      <td>Isavuconazonium</td>\n",
       "      <td>2</td>\n",
       "      <td>1.03744</td>\n",
       "      <td>The therapeutic efficacy of A can be increased...</td>\n",
       "      <td>2</td>\n",
       "      <td>173.566605</td>\n",
       "      <td>8.085900</td>\n",
       "    </tr>\n",
       "    <tr>\n",
       "      <th>5</th>\n",
       "      <td>rq0001</td>\n",
       "      <td>DB07213</td>\n",
       "      <td>(5-{3-[5-(PIPERIDIN-1-YLMETHYL)-1H-INDOL-2-YL]...</td>\n",
       "      <td>2</td>\n",
       "      <td>1.45959</td>\n",
       "      <td>The therapeutic efficacy of A can be increased...</td>\n",
       "      <td>2</td>\n",
       "      <td>194.690994</td>\n",
       "      <td>10.447700</td>\n",
       "    </tr>\n",
       "    <tr>\n",
       "      <th>6</th>\n",
       "      <td>rq0001</td>\n",
       "      <td>DB07328</td>\n",
       "      <td>METHYL 4-{[({[(2R,5S)-5-{[(2S)-2-(AMINOMETHYL)...</td>\n",
       "      <td>2</td>\n",
       "      <td>1.23144</td>\n",
       "      <td>The therapeutic efficacy of B can be increased...</td>\n",
       "      <td>2</td>\n",
       "      <td>174.453094</td>\n",
       "      <td>19.360701</td>\n",
       "    </tr>\n",
       "    <tr>\n",
       "      <th>7</th>\n",
       "      <td>rq0001</td>\n",
       "      <td>DB08301</td>\n",
       "      <td>N-({[4-(AMINOSULFONYL)PHENYL]AMINO}CARBONYL)-4...</td>\n",
       "      <td>2</td>\n",
       "      <td>1.15022</td>\n",
       "      <td>The therapeutic efficacy of B can be increased...</td>\n",
       "      <td>2</td>\n",
       "      <td>176.406998</td>\n",
       "      <td>19.055599</td>\n",
       "    </tr>\n",
       "    <tr>\n",
       "      <th>8</th>\n",
       "      <td>rq0001</td>\n",
       "      <td>DB13307</td>\n",
       "      <td>Proscillaridin</td>\n",
       "      <td>2</td>\n",
       "      <td>1.26761</td>\n",
       "      <td>B may decrease the cardiotoxic activities of A.</td>\n",
       "      <td>2</td>\n",
       "      <td>169.378693</td>\n",
       "      <td>17.631100</td>\n",
       "    </tr>\n",
       "    <tr>\n",
       "      <th>9</th>\n",
       "      <td>rq0001</td>\n",
       "      <td>DB15323</td>\n",
       "      <td>Trelagliptin</td>\n",
       "      <td>2</td>\n",
       "      <td>1.05415</td>\n",
       "      <td>The therapeutic efficacy of A can be increased...</td>\n",
       "      <td>2</td>\n",
       "      <td>162.229797</td>\n",
       "      <td>15.201000</td>\n",
       "    </tr>\n",
       "    <tr>\n",
       "      <th>10</th>\n",
       "      <td>rq0001</td>\n",
       "      <td>DB15325</td>\n",
       "      <td>ONO-8539</td>\n",
       "      <td>2</td>\n",
       "      <td>1.27382</td>\n",
       "      <td>The therapeutic efficacy of B can be increased...</td>\n",
       "      <td>2</td>\n",
       "      <td>67.948196</td>\n",
       "      <td>14.467100</td>\n",
       "    </tr>\n",
       "  </tbody>\n",
       "</table>\n",
       "</div>"
      ],
      "text/plain": [
       "    req_id Drugbank_ID                                               name  \\\n",
       "0   rq0001     DB00413                                        Pramipexole   \n",
       "1   rq0001     DB01255                                   Lisdexamfetamine   \n",
       "2   rq0001     DB01299                                        Sulfadoxine   \n",
       "3   rq0001     DB04794                                         Bifonazole   \n",
       "4   rq0001     DB06636                                    Isavuconazonium   \n",
       "5   rq0001     DB07213  (5-{3-[5-(PIPERIDIN-1-YLMETHYL)-1H-INDOL-2-YL]...   \n",
       "6   rq0001     DB07328  METHYL 4-{[({[(2R,5S)-5-{[(2S)-2-(AMINOMETHYL)...   \n",
       "7   rq0001     DB08301  N-({[4-(AMINOSULFONYL)PHENYL]AMINO}CARBONYL)-4...   \n",
       "8   rq0001     DB13307                                     Proscillaridin   \n",
       "9   rq0001     DB15323                                       Trelagliptin   \n",
       "10  rq0001     DB15325                                           ONO-8539   \n",
       "\n",
       "    block_type  block_score  \\\n",
       "0            2      1.22560   \n",
       "1            2      1.52347   \n",
       "2            2      1.32545   \n",
       "3            2      1.23374   \n",
       "4            2      1.03744   \n",
       "5            2      1.45959   \n",
       "6            2      1.23144   \n",
       "7            2      1.15022   \n",
       "8            2      1.26761   \n",
       "9            2      1.05415   \n",
       "10           2      1.27382   \n",
       "\n",
       "                                          interaction  interaction_type  \\\n",
       "0        B may increase the sedative activities of A.                 2   \n",
       "1   A may decrease the sedative and stimulatory ac...                 2   \n",
       "2   The therapeutic efficacy of A can be increased...                 2   \n",
       "3   The therapeutic efficacy of A can be increased...                 2   \n",
       "4   The therapeutic efficacy of A can be increased...                 2   \n",
       "5   The therapeutic efficacy of A can be increased...                 2   \n",
       "6   The therapeutic efficacy of B can be increased...                 2   \n",
       "7   The therapeutic efficacy of B can be increased...                 2   \n",
       "8     B may decrease the cardiotoxic activities of A.                 2   \n",
       "9   The therapeutic efficacy of A can be increased...                 2   \n",
       "10  The therapeutic efficacy of B can be increased...                 2   \n",
       "\n",
       "          ic50       ec50  \n",
       "0    44.600899   7.303200  \n",
       "1   135.096695  21.860600  \n",
       "2   143.170807   9.033300  \n",
       "3   182.294907  14.496400  \n",
       "4   173.566605   8.085900  \n",
       "5   194.690994  10.447700  \n",
       "6   174.453094  19.360701  \n",
       "7   176.406998  19.055599  \n",
       "8   169.378693  17.631100  \n",
       "9   162.229797  15.201000  \n",
       "10   67.948196  14.467100  "
      ]
     },
     "execution_count": 9,
     "metadata": {},
     "output_type": "execute_result"
    }
   ],
   "source": [
    "result = result.join(ddi_result1).merge(pol_result).join(ba_result).join(ddi_result2[['interaction']]).join(request_id)\n",
    "result = result[['req_id', 'Drugbank_ID', 'name', 'block_type', 'block_score', 'interaction', 'interaction_type', 'ic50', 'ec50']]\n",
    "result"
   ]
  },
  {
   "cell_type": "code",
   "execution_count": 10,
   "metadata": {
    "ExecuteTime": {
     "end_time": "2021-06-16T01:47:04.217650Z",
     "start_time": "2021-06-16T01:47:02.698175Z"
    }
   },
   "outputs": [],
   "source": [
    "import math\n",
    "\n",
    "for idx, (req_id, Drugbank_ID, name, block_type, block_score, interaction, interaction_type, ic50, ec50) in result.iterrows():\n",
    "    interaction = interaction.replace('A', drug_name).replace('B', name)\n",
    "    \n",
    "    n_ref_ae = suitability.from_db(f\"\"\"\n",
    "    SELECT COUNT(*)\n",
    "    FROM pro_carrier_suitability_assessment.abstract_adverse_effect\n",
    "    WHERE abstract like '%{name}%'\n",
    "    \"\"\"\n",
    "                                  ).iloc[0,0]\n",
    "                                    \n",
    "    total_score = (20 * block_score) + (10 * interaction_type) + (-math.log(ic50)) + (-math.log(ec50))\n",
    "        \n",
    "    suitability.query_db(f\"\"\"\n",
    "    INSERT INTO pro_carrier_suitability_assessment.result(req_id, \n",
    "                                                          idx, \n",
    "                                                          Drugbank_ID, \n",
    "                                                          name, \n",
    "                                                          block_type, \n",
    "                                                          block_score, \n",
    "                                                          interaction, \n",
    "                                                          interaction_type, \n",
    "                                                          ic50, ec50, \n",
    "                                                          n_ref_da, \n",
    "                                                          n_ref_ae,\n",
    "                                                          total_score)\n",
    "    VALUES ('{req_id}', \n",
    "             {idx}, \n",
    "             '{Drugbank_ID}', \n",
    "             '{name}', \n",
    "             {block_type}, \n",
    "             {round(block_score, 3)}, \n",
    "             '{interaction}', \n",
    "             {interaction_type}, \n",
    "             {round(ic50, 3)}, \n",
    "             {round(ec50, 3)},\n",
    "             0, \n",
    "             {n_ref_ae},\n",
    "             {total_score});    \n",
    "    \"\"\")\n",
    "    \n",
    "#     print(f\"\"\"\n",
    "#     INSERT INTO pro_carrier_suitability_assessment.result(req_id, idx, Drugbank_ID, name, block_type, block_score, interaction, interaction_type, ic50, ec50)\n",
    "#     VALUES ('{req_id}', {idx}, '{Drugbank_ID}', '{name}', {block_type}, {round(block_score, 3)}, '{interaction}', {interaction_type}, {round(ic50, 3)}, {round(ec50, 3)});    \n",
    "#     \"\"\")\n"
   ]
  },
  {
   "cell_type": "code",
   "execution_count": 11,
   "metadata": {
    "ExecuteTime": {
     "end_time": "2021-06-16T01:47:04.823549Z",
     "start_time": "2021-06-16T01:47:04.219527Z"
    }
   },
   "outputs": [],
   "source": [
    "for idx, (req_id, Drugbank_ID, name) in result[['req_id', 'Drugbank_ID', 'name']].iterrows():\n",
    "    suitability.query_db(f\"\"\"\n",
    "    INSERT INTO pro_carrier_suitability_assessment.result_adverse_effects_ref (req_id, index_id, reference_title, year, summary)\n",
    "    (\n",
    "    SELECT '{req_id}', {idx}, title, year, summary\n",
    "    FROM pro_carrier_suitability_assessment.abstract_adverse_effect\n",
    "    WHERE abstract like '%{name}%'\n",
    "    );\n",
    "    \"\"\")"
   ]
  },
  {
   "cell_type": "code",
   "execution_count": 12,
   "metadata": {
    "ExecuteTime": {
     "end_time": "2021-06-16T01:47:04.968154Z",
     "start_time": "2021-06-16T01:47:04.825263Z"
    }
   },
   "outputs": [],
   "source": [
    "# 분자 이미지 저장\n",
    "from rdkit.Chem import Draw\n",
    "import os\n",
    "\n",
    "smiles = pd.DataFrame(ddi_matched[['Drugbank_ID', 'SMILES']])\n",
    "os.system(f'mkdir /BiO/projects/polarity/carrier_suitability_assessment/img_result/{req_id}')\n",
    "for i, (id, smi) in smiles.iterrows():\n",
    "    m = Chem.MolFromSmiles(smi)\n",
    "    Draw.MolToFile(m, f'/BiO/projects/polarity/carrier_suitability_assessment/img_result/{req_id}/{id}.png')"
   ]
  },
  {
   "cell_type": "code",
   "execution_count": 10,
   "metadata": {
    "ExecuteTime": {
     "end_time": "2021-06-17T05:54:29.484517Z",
     "start_time": "2021-06-17T05:54:29.479957Z"
    }
   },
   "outputs": [
    {
     "data": {
      "text/plain": [
       "-4.890349128221754"
      ]
     },
     "execution_count": 10,
     "metadata": {},
     "output_type": "execute_result"
    }
   ],
   "source": [
    "import math\n",
    "\n",
    "-math.log(133)"
   ]
  },
  {
   "cell_type": "code",
   "execution_count": null,
   "metadata": {},
   "outputs": [],
   "source": []
  }
 ],
 "metadata": {
  "kernelspec": {
   "display_name": "Python 3",
   "language": "python",
   "name": "python3"
  },
  "language_info": {
   "codemirror_mode": {
    "name": "ipython",
    "version": 3
   },
   "file_extension": ".py",
   "mimetype": "text/x-python",
   "name": "python",
   "nbconvert_exporter": "python",
   "pygments_lexer": "ipython3",
   "version": "3.6.10"
  }
 },
 "nbformat": 4,
 "nbformat_minor": 4
}
