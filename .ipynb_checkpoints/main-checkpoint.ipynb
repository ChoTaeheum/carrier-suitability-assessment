{
 "cells": [
  {
   "cell_type": "code",
   "execution_count": 1,
   "metadata": {
    "ExecuteTime": {
     "end_time": "2021-06-22T08:31:45.324238Z",
     "start_time": "2021-06-22T08:31:44.392985Z"
    }
   },
   "outputs": [],
   "source": [
    "import sys\n",
    "import numpy as np\n",
    "import pandas as pd\n",
    "import torch\n",
    "import os\n",
    "import math\n",
    "\n",
    "from rdkit import Chem\n",
    "from rdkit.Chem import AllChem\n",
    "from rdkit.Chem import Draw\n",
    "\n",
    "from calldb import CallDB\n",
    "from polarity import Polarity\n",
    "import DDI_runner\n",
    "import BA_runner\n",
    "\n"
   ]
  },
  {
   "cell_type": "code",
   "execution_count": 2,
   "metadata": {
    "ExecuteTime": {
     "end_time": "2021-06-22T08:31:45.329605Z",
     "start_time": "2021-06-22T08:31:45.326726Z"
    }
   },
   "outputs": [],
   "source": [
    "# req_id = 'rq0001'\n",
    "\n",
    "# suitability = CallDB(\"pro_carrier_suitability_assessment\")\n",
    "# interaction = CallDB(\"pro_drug_drug_interaction\")\n",
    "\n",
    "# # request table fetch\n",
    "# request = suitability.from_db(f\"\"\"\n",
    "# SELECT * \n",
    "# FROM pro_carrier_suitability_assessment.request \n",
    "# WHERE req_id = \"{req_id}\"\n",
    "# ;\n",
    "# \"\"\")\n",
    "\n",
    "# # interaction_dict table fetch\n",
    "# inter_dict = interaction.from_db(\"\"\"\n",
    "# SELECT *\n",
    "# FROM pro_drug_drug_interaction.interaction_dictionary\n",
    "# ;\n",
    "# \"\"\")"
   ]
  },
  {
   "cell_type": "code",
   "execution_count": 3,
   "metadata": {
    "ExecuteTime": {
     "end_time": "2021-06-22T08:31:45.334706Z",
     "start_time": "2021-06-22T08:31:45.331826Z"
    }
   },
   "outputs": [],
   "source": [
    "def main():\n",
    "    req_id = 'rq0001'\n",
    "    run = Run(req_id)\n",
    "    run.run()"
   ]
  },
  {
   "cell_type": "code",
   "execution_count": 4,
   "metadata": {
    "ExecuteTime": {
     "end_time": "2021-06-22T08:31:45.437435Z",
     "start_time": "2021-06-22T08:31:45.336620Z"
    }
   },
   "outputs": [],
   "source": [
    "class Run:\n",
    "    def __init__(self, req_id):\n",
    "        self.req_id = req_id\n",
    "        \n",
    "        self.suitability = CallDB(\"pro_carrier_suitability_assessment\")\n",
    "        self.interaction = CallDB(\"pro_drug_drug_interaction\")\n",
    "        \n",
    "        self.request = self.suitability.from_db(f\"\"\"\n",
    "        SELECT * \n",
    "        FROM pro_carrier_suitability_assessment.request \n",
    "        WHERE req_id = \"{self.req_id}\"\n",
    "        ;\n",
    "        \"\"\")\n",
    "        \n",
    "        # interaction_dict table fetch\n",
    "        self.inter_dict = self.interaction.from_db(\"\"\"\n",
    "        SELECT *\n",
    "        FROM pro_drug_drug_interaction.interaction_dictionary\n",
    "        ;\n",
    "        \"\"\")\n",
    "        \n",
    "        self.drug_name = self.request.loc[0, 'drug_name']\n",
    "        self.smiles = self.request.loc[0, 'smiles']\n",
    "        self.protein_name = self.request.loc[0, 'protein_name']\n",
    "        self.sequence = self.request.loc[0, 'sequence']\n",
    "        self.weight = self.request.loc[0, 'weight']\n",
    "        \n",
    "        self.weight_split = self.weight.split('|')\n",
    "        self.ba_wt = self.weight_split[0]\n",
    "        self.ae_wt = self.weight_split[1]\n",
    "        self.ddi_wt = self.weight_split[2]\n",
    "        \n",
    "        \n",
    "    def run(self):     \n",
    "        drug_fp = self.drug_encoding(self.smiles)\n",
    "        target_embd = self.target_encoding(self.sequence)\n",
    "        \n",
    "        polarity = self.pol(self.smiles)\n",
    "        self.pol_candidate(polarity)    # 예측극성에 해당되는 후보 fetch -> self\n",
    "        carrier_fp = self.pol_carrier_fp()\n",
    "        \n",
    "        ddi_pred = self.ddi(drug_fp, carrier_fp)\n",
    "        self.ddi_candidate(ddi_pred)\n",
    "        carrier_fp = self.ddi_carrier_fp()\n",
    "        \n",
    "        ba_pred = self.ba(carrier_fp, target_embd)\n",
    "        \n",
    "        result = self.make_df()\n",
    "        \n",
    "        self.to_result(result)\n",
    "        self.to_result_ref(result)\n",
    "        self.to_img_dir()       \n",
    "        \n",
    "        \n",
    "    def drug_encoding(self, smiles: str) -> torch.Tensor:\n",
    "        drug_m = Chem.MolFromSmiles(smiles)\n",
    "        drug_fp = torch.tensor(np.array(AllChem.GetMorganFingerprintAsBitVect(drug_m, 3, nBits=1024)), dtype=torch.float32)\n",
    "        return drug_fp\n",
    "    \n",
    "    \n",
    "    def target_encoding(self, sequence:str) -> torch.Tensor:\n",
    "        amino_dict = {s: i for i, s in enumerate(list('ACDEFGHIKLMNOPQRSTVWXY'))}\n",
    "        sequence_embd = [amino_dict[c] for c in sequence.upper()]  # 단백질 시퀀스 숫자로 변환\n",
    "\n",
    "        max_len = 10000\n",
    "        for i in range(max_len - len(sequence_embd)):\n",
    "            sequence_embd.append(0)\n",
    "\n",
    "        target_embd = torch.tensor(sequence_embd, dtype=torch.float32)[:2048].view(1, 2048)\n",
    "        return target_embd   # 벡터\n",
    "    \n",
    "    \n",
    "    def pol(self, smiles):\n",
    "        polarity = Polarity(smiles)    # polarity 예측\n",
    "        return polarity\n",
    "\n",
    "    def pol_candidate(self, polarity):\n",
    "        # 극성에 대응하는 carier_candidate fetch\n",
    "        pol_matched = self.suitability.from_db(f\"\"\"\n",
    "        SELECT Drugbank_ID, name, finger_print, block_type, block_score, SMILES\n",
    "        FROM pro_carrier_suitability_assessment.block_type_library \n",
    "        WHERE block_type = {polarity};\n",
    "        \"\"\")\n",
    "\n",
    "        self.pol_matched = pol_matched[['Drugbank_ID',\n",
    "                                   'name',\n",
    "                                   'finger_print',\n",
    "                                   'block_type',\n",
    "                                   'block_score',\n",
    "                                   'SMILES']]\n",
    "        \n",
    "    \n",
    "    def pol_carrier_fp(self) -> torch.Tensor:\n",
    "        # fingerprint 전처리\n",
    "        carrier_fp = []\n",
    "        for i, (_, _, fp, _, _, _) in self.pol_matched.iterrows():\n",
    "            carrier_fp.append(np.fromstring(fp.replace('', ' '), dtype=int, sep=' '))\n",
    "\n",
    "        carrier_fp = torch.tensor(carrier_fp, dtype=torch.float32)\n",
    "        return carrier_fp\n",
    "    \n",
    "    \n",
    "    def ddi(self, drug_fp: torch.Tensor, carrier_fp: torch.Tensor):\n",
    "        ddi_pred = DDI_runner.run(drug_fp, carrier_fp)\n",
    "        ddi_pred = list(np.array(ddi_pred.detach()))\n",
    "        return ddi_pred\n",
    "\n",
    "        \n",
    "    def ddi_candidate(self, ddi_pred) -> object:\n",
    "        # interaction 점수 가져오기\n",
    "        self.ddi_type = pd.DataFrame(np.array(self.inter_dict[['label', 'interaction_type']].iloc[ddi_pred]), columns=['label', 'interaction_type']) \n",
    "\n",
    "        if self.ddi_wt == 1:\n",
    "            inter_type = 2\n",
    "\n",
    "        elif self.ddi_wt == 0.5:\n",
    "            inter_type = 1\n",
    "\n",
    "        else:\n",
    "            inter_type = 0\n",
    "\n",
    "        # 만족하는 점수만 선택\n",
    "        self.ddi_matched_type = self.ddi_type['interaction_type'] >= inter_type\n",
    "        print(self.ddi_matched_type)\n",
    "        self.ddi_matched = self.pol_matched[['Drugbank_ID', 'finger_print', 'SMILES']].iloc[list(self.ddi_type.index[self.ddi_matched_type])]\n",
    "\n",
    "        \n",
    "    # string to np.ndarray\n",
    "    def ddi_carrier_fp(self) -> torch.Tensor:  \n",
    "        carrier_fp = []\n",
    "        for i, (id, fp, _) in self.ddi_matched.iterrows():\n",
    "            carrier_fp.append(np.fromstring(fp.replace('', ' '), dtype=int, sep=' '))\n",
    "\n",
    "        carrier_fp = torch.tensor(carrier_fp, dtype=torch.float32)\n",
    "        return carrier_fp\n",
    "    \n",
    "    # Binding_affinity 예측\n",
    "    def ba(self, carrier_fp: torch.Tensor, target_embd: torch.Tensor) -> object:\n",
    "\n",
    "        # 같은 개수만큼 복사\n",
    "        sequence_temp = torch.tensor([], dtype=torch.float32).view(0, 2048)\n",
    "        for i in range(len(carrier_fp)):\n",
    "            sequence_temp = torch.cat([sequence_temp, target_embd], dim=0)\n",
    "        target_embd = sequence_temp\n",
    "\n",
    "        ba_pred = BA_runner.run(carrier_fp, target_embd, len(carrier_fp))\n",
    "        ba_pred = np.round(np.array(ba_pred.detach()), 4)\n",
    "        self.ba_pred = np.where(ba_pred < 0, 0.0001, ba_pred)\n",
    "        \n",
    "        return self.ba_pred\n",
    "\n",
    "    \n",
    "    def make_df(self) -> object:\n",
    "        drugbank_id = pd.DataFrame(self.ddi_matched['Drugbank_ID'], columns=['Drugbank_ID'])\n",
    "        result = drugbank_id\n",
    "        pol_result = self.pol_matched\n",
    "\n",
    "        ddi_result1 = self.ddi_type[self.ddi_matched_type]\n",
    "\n",
    "        ddi_result2 = self.inter_dict.iloc[list(self.ddi_type[self.ddi_matched_type]['label'])][['label', 'interaction']]\n",
    "        ddi_result2 = pd.DataFrame(np.array(ddi_result2), columns=['label', 'interaction'])\n",
    "\n",
    "        ba_result = pd.DataFrame(self.ba_pred, columns=['ic50', 'ec50'])\n",
    "\n",
    "        request_id = pd.DataFrame({'req_id' : [self.req_id for i in range(len(result))]})\n",
    "\n",
    "        result = result.join(ddi_result1).merge(pol_result).join(ba_result).join(ddi_result2[['interaction']]).join(request_id)\n",
    "        result = result[['req_id', 'Drugbank_ID', 'name', 'block_type', 'block_score', 'interaction', 'interaction_type', 'ic50', 'ec50']]\n",
    "\n",
    "        return result\n",
    "    \n",
    "    \n",
    "    def to_result(self, result: object):\n",
    "        for idx, (req_id, Drugbank_ID, name, block_type, block_score, interaction, interaction_type, ic50, ec50) in result.iterrows():\n",
    "            name = name.replace(\"'\", \"`\")\n",
    "            \n",
    "            interaction = interaction.replace('A', self.drug_name).replace('B', name)\n",
    "\n",
    "            n_ref_ae = self.suitability.from_db(f\"\"\"\n",
    "            SELECT COUNT(*)\n",
    "            FROM pro_carrier_suitability_assessment.abstract_adverse_effect\n",
    "            WHERE abstract like '%{name}%'\n",
    "            \"\"\"\n",
    "                                          ).iloc[0,0]\n",
    "\n",
    "            total_score = (20 * block_score) + (10 * interaction_type) + (-math.log(ic50)) + (-math.log(ec50))\n",
    "\n",
    "            self.suitability.query_db(f\"\"\"\n",
    "            INSERT INTO pro_carrier_suitability_assessment.result(req_id, \n",
    "                                                                  idx, \n",
    "                                                                  Drugbank_ID, \n",
    "                                                                  name, \n",
    "                                                                  block_type, \n",
    "                                                                  block_score, \n",
    "                                                                  interaction, \n",
    "                                                                  interaction_type, \n",
    "                                                                  ic50, ec50, \n",
    "                                                                  n_ref_da, \n",
    "                                                                  n_ref_ae,\n",
    "                                                                  total_score)\n",
    "            VALUES ('{req_id}', \n",
    "                     {idx}, \n",
    "                     '{Drugbank_ID}', \n",
    "                     '{name}', \n",
    "                     {block_type}, \n",
    "                     {round(block_score, 3)}, \n",
    "                     '{interaction}', \n",
    "                     {interaction_type}, \n",
    "                     {round(ic50, 3)}, \n",
    "                     {round(ec50, 3)},\n",
    "                     0, \n",
    "                     {n_ref_ae},\n",
    "                     {total_score});    \n",
    "            \"\"\")\n",
    "    \n",
    "\n",
    "    def to_result_ref(self, result: object):\n",
    "        for idx, (req_id, Drugbank_ID, name) in result[['req_id', 'Drugbank_ID', 'name']].iterrows():\n",
    "            name = name.replace(\"'\", \"`\")\n",
    "            self.suitability.query_db(f\"\"\"\n",
    "            INSERT INTO pro_carrier_suitability_assessment.result_adverse_effects_ref (req_id, index_id, reference_title, year, summary)\n",
    "            (\n",
    "            SELECT '{req_id}', {idx}, title, year, summary\n",
    "            FROM pro_carrier_suitability_assessment.abstract_adverse_effect\n",
    "            WHERE abstract like '%{name}%'\n",
    "            );\n",
    "            \"\"\")\n",
    "    \n",
    "    \n",
    "    # 분자 이미지 저장\n",
    "    def to_img_dir(self):\n",
    "        smiles = pd.DataFrame(self.ddi_matched[['Drugbank_ID', 'SMILES']])\n",
    "        os.system(f'mkdir /BiO/projects/polarity/carrier_suitability_assessment/img_result/{self.req_id}')\n",
    "        for i, (id, smi) in smiles.iterrows():\n",
    "            m = Chem.MolFromSmiles(smi)\n",
    "            Draw.MolToFile(m, f'/BiO/projects/polarity/carrier_suitability_assessment/img_result/{self.req_id}/{id}.png')\n",
    "\n"
   ]
  },
  {
   "cell_type": "code",
   "execution_count": 5,
   "metadata": {
    "ExecuteTime": {
     "end_time": "2021-06-22T08:32:45.581605Z",
     "start_time": "2021-06-22T08:31:45.439010Z"
    }
   },
   "outputs": [
    {
     "name": "stdout",
     "output_type": "stream",
     "text": [
      "0.5\n"
     ]
    },
    {
     "name": "stderr",
     "output_type": "stream",
     "text": [
      "/BiO/projects/polarity/carrier_suitability_assessment/DDI_runner.py:27: UserWarning: To copy construct from a tensor, it is recommended to use sourceTensor.clone().detach() or sourceTensor.clone().detach().requires_grad_(True), rather than torch.tensor(sourceTensor).\n",
      "  combi_data = carrier_fp + torch.tensor(drug_fp, dtype=torch.float32)\n"
     ]
    }
   ],
   "source": [
    "if __name__ == \"__main__\":\n",
    "    main()"
   ]
  },
  {
   "cell_type": "code",
   "execution_count": 6,
   "metadata": {
    "ExecuteTime": {
     "end_time": "2021-06-22T08:32:45.589435Z",
     "start_time": "2021-06-22T08:32:45.585234Z"
    }
   },
   "outputs": [],
   "source": [
    "# def main(req_id):\n",
    "#     global request\n",
    "#     global inter_dict\n",
    "    \n",
    "#     drug_name = request.loc[0, 'drug_name']\n",
    "#     smiles = request.loc[0, 'smiles']\n",
    "#     protein_name = request.loc[0, 'protein_name']\n",
    "#     sequence = request.loc[0, 'sequence']\n",
    "# #     weight = request.loc[0, 'weight']\n",
    "#     weight = '0.5|1|0.5'\n",
    "    \n",
    "#     weight_split = weight.split('|')\n",
    "#     ba_wt = weight_split[0]\n",
    "#     ae_wt = weight_split[1]\n",
    "    \n",
    "#     if weight_split[2] == 1:\n",
    "#         ddi_wt = 2\n",
    "        \n",
    "#     elif weight_split[2] == 0.5:\n",
    "#         ddi_wt = 1\n",
    "        \n",
    "#     else:\n",
    "#         ddi_wt = 0\n",
    "    \n",
    "#     # 타겟 약물이 친수성인지 소수성인지 확인\n",
    "    \n",
    "#     drug_fp = drug_encoding(smiles)   # 입력 약물\n",
    "#     target_embd = target_encoding(sequence)    # 입력타겟, 받는 변수 target_embd 고려\n",
    "    \n",
    "#     polarity = Polarity(smiles)    # polarity 예측\n",
    "#     carrier_fp, pol_matched = carrier_encoding(polarity) # 예측된 polarity에 의해 적합후보군 추출\n",
    "    \n",
    "#     ddi_pred = ddi(drug_fp, carrier_fp)   # ddi 결과 예측\n",
    "#     carrier_fp, ddi_type, ddi_matched_type, ddi_matched = pick_candidate(ddi_pred, pol_matched, ddi_wt) # ddi 예측 결과 바탕으로 적합후보군 추출\n",
    "    \n",
    "#     ba_pred = ba(carrier_fp, target_embd)   # ba 결과 예측\n",
    "    \n",
    "#     result = make_df(ba_pred, ddi_type, ddi_matched_type, ddi_matched, pol_matched)\n",
    "    \n",
    "#     to_result(result)\n",
    "#     to_result_ref(result)\n",
    "#     to_img_dir(req_id, ddi_matched)\n",
    "    \n",
    "    \n",
    "    \n",
    "    \n",
    "    "
   ]
  },
  {
   "cell_type": "code",
   "execution_count": 7,
   "metadata": {
    "ExecuteTime": {
     "end_time": "2021-06-22T08:32:45.593127Z",
     "start_time": "2021-06-22T08:32:45.591003Z"
    }
   },
   "outputs": [],
   "source": [
    "# ##################\n",
    "# import numpy as np\n",
    "# import torch\n",
    "# from rdkit import Chem\n",
    "# from rdkit.Chem import AllChem\n",
    "\n",
    "# # 타겟 약물 인코딩\n",
    "# def drug_encoding(smiles: str) -> torch.Tensor:\n",
    "#     drug_m = Chem.MolFromSmiles(smiles)\n",
    "#     drug_fp = torch.tensor(np.array(AllChem.GetMorganFingerprintAsBitVect(drug_m, 3, nBits=1024)), dtype=torch.float32)\n",
    "#     return drug_fp"
   ]
  },
  {
   "cell_type": "code",
   "execution_count": 8,
   "metadata": {
    "ExecuteTime": {
     "end_time": "2021-06-22T08:32:45.596946Z",
     "start_time": "2021-06-22T08:32:45.594618Z"
    }
   },
   "outputs": [],
   "source": [
    "# # 전달체 후보군 finger print 불러오기, 데이터베이스 조작에 의해서만 입력값 조정하고 싶음\n",
    "# def carrier_encoding(polarity: int) -> torch.Tensor:\n",
    "#     pol_matched = suitability.from_db(f\"\"\"\n",
    "#     SELECT Drugbank_ID, name, finger_print, block_type, block_score, SMILES\n",
    "#     FROM pro_carrier_suitability_assessment.block_type_library \n",
    "#     WHERE block_type = {polarity};\n",
    "#     \"\"\")\n",
    "    \n",
    "#     pol_matched = pol_matched[['Drugbank_ID',\n",
    "#                                'name',\n",
    "#                                'finger_print',\n",
    "#                                'block_type',\n",
    "#                                'block_score',\n",
    "#                                'SMILES']]\n",
    "    \n",
    "#     carrier_fp = []\n",
    "#     for i, (_, _, fp, _, _, _) in pol_matched.iterrows():\n",
    "#         carrier_fp.append(np.fromstring(fp.replace('', ' '), dtype=int, sep=' '))\n",
    "        \n",
    "#     carrier_fp = torch.tensor(carrier_fp, dtype=torch.float32)\n",
    "#     return carrier_fp, pol_matched"
   ]
  },
  {
   "cell_type": "code",
   "execution_count": 9,
   "metadata": {
    "ExecuteTime": {
     "end_time": "2021-06-22T08:32:45.601542Z",
     "start_time": "2021-06-22T08:32:45.599524Z"
    },
    "scrolled": false
   },
   "outputs": [],
   "source": [
    "# import DDI_runner\n",
    "\n",
    "# def ddi(drug_fp: torch.Tensor, carrier_fp: torch.Tensor) -> object:\n",
    "#     ddi_pred = DDI_runner.run(drug_fp, carrier_fp)\n",
    "#     ddi_pred = list(np.array(ddi_pred.detach()))\n",
    "#     return ddi_pred\n"
   ]
  },
  {
   "cell_type": "code",
   "execution_count": 10,
   "metadata": {
    "ExecuteTime": {
     "end_time": "2021-06-22T08:32:45.605323Z",
     "start_time": "2021-06-22T08:32:45.603306Z"
    }
   },
   "outputs": [],
   "source": [
    "# # carrier 후보 fingerprint extraction\n",
    "# def candicate_fp(ddi_matched: object) -> torch.Tensor:  \n",
    "#     carrier_fp = []\n",
    "#     for i, (id, fp, _) in ddi_matched.iterrows():\n",
    "#         carrier_fp.append(np.fromstring(fp.replace('', ' '), dtype=int, sep=' '))\n",
    "\n",
    "#     carrier_fp = torch.tensor(carrier_fp, dtype=torch.float32)\n",
    "    \n",
    "#     return carrier_fp"
   ]
  },
  {
   "cell_type": "code",
   "execution_count": 11,
   "metadata": {
    "ExecuteTime": {
     "end_time": "2021-06-22T08:32:45.608985Z",
     "start_time": "2021-06-22T08:32:45.606792Z"
    }
   },
   "outputs": [],
   "source": [
    "# # DDI 결과를 바탕으로 BA 계산할 전달체 후보 추출\n",
    "# import pandas as pd\n",
    "\n",
    "# def pick_candidate(ddi_pred: object, pol_matched: object, ddi_wt: int) -> object:\n",
    "#     global inter_dict\n",
    "    \n",
    "#     # interaction 점수 가져오기\n",
    "#     ddi_type = pd.DataFrame(np.array(inter_dict[['label', 'interaction_type']].iloc[ddi_pred]), columns=['label', 'interaction_type']) \n",
    "\n",
    "#     # 만족하는 점수만 선택\n",
    "#     ddi_matched_type = ddi_type['interaction_type'] >= ddi_wt   # 이거 안될 수도 있음, \n",
    "#     ddi_matched = pol_matched[['Drugbank_ID', 'finger_print', 'SMILES']].iloc[list(ddi_type.index[ddi_matched_type])]\n",
    "    \n",
    "#     carrier_fp = candidate_fp(ddi_matched)   # candidate_fp 함수\n",
    "    \n",
    "#     return carrier_fp, ddi_type, ddi_matched_type, ddi_matched"
   ]
  },
  {
   "cell_type": "code",
   "execution_count": 12,
   "metadata": {
    "ExecuteTime": {
     "end_time": "2021-06-22T08:32:45.612539Z",
     "start_time": "2021-06-22T08:32:45.610403Z"
    }
   },
   "outputs": [],
   "source": [
    "# # 타겟 단백질 인코딩\n",
    "# def target_encoding(sequence:str) -> torch.Tensor:\n",
    "#     amino_dict = {s: i for i, s in enumerate(list('ACDEFGHIKLMNOPQRSTVWXY'))}\n",
    "#     sequence_embd = [amino_dict[c] for c in sequence.upper()]  # 단백질 시퀀스 숫자로 변환\n",
    "\n",
    "#     max_len = 10000\n",
    "#     for i in range(max_len - len(sequence_embd)):\n",
    "#         sequence_embd.append(0)\n",
    "\n",
    "#     target_embd = torch.tensor(sequence_embd, dtype=torch.float32)[:2048].view(1, 2048)\n",
    "\n",
    "    \n",
    "#     return target_embd\n",
    "    "
   ]
  },
  {
   "cell_type": "code",
   "execution_count": 13,
   "metadata": {
    "ExecuteTime": {
     "end_time": "2021-06-22T08:32:45.616092Z",
     "start_time": "2021-06-22T08:32:45.613999Z"
    }
   },
   "outputs": [],
   "source": [
    "# # Binding_affinity 예측\n",
    "# import BA_runner\n",
    "# def ba(carrier_fp: torch.Tensor, target_embd: torch.Tensor) -> object:\n",
    "    \n",
    "#     sequence_temp = torch.tensor([], dtype=torch.float32).view(0, 2048)\n",
    "#     for i in range(len(carrier_fp)):    # 같은 개수만큼 복사\n",
    "#         sequence_temp = torch.cat([sequence_temp, sequence_embd], dim=0)\n",
    "#     target_embd = sequence_temp\n",
    "    \n",
    "#     ba_pred = BA_runner.run(carrier_fp, target_embd, len(carrier_fp))\n",
    "#     ba_pred = np.round(np.array(ba_pred.detach()), 4)\n",
    "#     ba_pred = np.where(ba_pred < 0, 0.0001, ba_pred)\n",
    "#     return ba_pred"
   ]
  },
  {
   "cell_type": "code",
   "execution_count": 14,
   "metadata": {
    "ExecuteTime": {
     "end_time": "2021-06-22T08:32:45.619865Z",
     "start_time": "2021-06-22T08:32:45.617599Z"
    }
   },
   "outputs": [],
   "source": [
    "# # DB_result에 삽입할 DF 만들기\n",
    "\n",
    "# def make_df(ba_pred: object, ddi_type: object, ddi_matched_type: object, ddi_matched: object, pol_matched: object) -> object:\n",
    "#     global inter_dict\n",
    "    \n",
    "#     drugbank_id = pd.DataFrame(ddi_matched['Drugbank_ID'], columns=['Drugbank_ID'])\n",
    "#     result = drugbank_id\n",
    "#     pol_result = pol_matched\n",
    "\n",
    "#     ddi_result1 = ddi_type[ddi_matched_type]\n",
    "\n",
    "#     ddi_result2 = inter_dict.iloc[list(ddi_type[ddi_matched_type]['label'])][['label', 'interaction']]\n",
    "#     ddi_result2 = pd.DataFrame(np.array(ddi_result2), columns=['label', 'interaction'])\n",
    "\n",
    "#     ba_result = pd.DataFrame(ba_pred, columns=['ic50', 'ec50'])\n",
    "\n",
    "#     request_id = pd.DataFrame({'req_id' : [req_id for i in range(len(result))]})\n",
    "    \n",
    "#     result = result.join(ddi_result1).merge(pol_result).join(ba_result).join(ddi_result2[['interaction']]).join(request_id)\n",
    "#     result = result[['req_id', 'Drugbank_ID', 'name', 'block_type', 'block_score', 'interaction', 'interaction_type', 'ic50', 'ec50']]\n",
    "    \n",
    "#     return result"
   ]
  },
  {
   "cell_type": "code",
   "execution_count": 15,
   "metadata": {
    "ExecuteTime": {
     "end_time": "2021-06-22T08:32:45.624426Z",
     "start_time": "2021-06-22T08:32:45.621584Z"
    }
   },
   "outputs": [],
   "source": [
    "# import math\n",
    "\n",
    "# def to_result(result: object):\n",
    "#     for idx, (req_id, Drugbank_ID, name, block_type, block_score, interaction, interaction_type, ic50, ec50) in result.iterrows():\n",
    "#         interaction = interaction.replace('A', drug_name).replace('B', name)\n",
    "\n",
    "#         n_ref_ae = suitability.from_db(f\"\"\"\n",
    "#         SELECT COUNT(*)\n",
    "#         FROM pro_carrier_suitability_assessment.abstract_adverse_effect\n",
    "#         WHERE abstract like '%{name}%'\n",
    "#         \"\"\"\n",
    "#                                       ).iloc[0,0]\n",
    "\n",
    "#         total_score = (20 * block_score) + (10 * interaction_type) + (-math.log(ic50)) + (-math.log(ec50))\n",
    "\n",
    "#         suitability.query_db(f\"\"\"\n",
    "#         INSERT INTO pro_carrier_suitability_assessment.result(req_id, \n",
    "#                                                               idx, \n",
    "#                                                               Drugbank_ID, \n",
    "#                                                               name, \n",
    "#                                                               block_type, \n",
    "#                                                               block_score, \n",
    "#                                                               interaction, \n",
    "#                                                               interaction_type, \n",
    "#                                                               ic50, ec50, \n",
    "#                                                               n_ref_da, \n",
    "#                                                               n_ref_ae,\n",
    "#                                                               total_score)\n",
    "#         VALUES ('{req_id}', \n",
    "#                  {idx}, \n",
    "#                  '{Drugbank_ID}', \n",
    "#                  '{name}', \n",
    "#                  {block_type}, \n",
    "#                  {round(block_score, 3)}, \n",
    "#                  '{interaction}', \n",
    "#                  {interaction_type}, \n",
    "#                  {round(ic50, 3)}, \n",
    "#                  {round(ec50, 3)},\n",
    "#                  0, \n",
    "#                  {n_ref_ae},\n",
    "#                  {total_score});    \n",
    "#         \"\"\")\n"
   ]
  },
  {
   "cell_type": "code",
   "execution_count": 16,
   "metadata": {
    "ExecuteTime": {
     "end_time": "2021-06-22T08:32:45.627954Z",
     "start_time": "2021-06-22T08:32:45.625934Z"
    }
   },
   "outputs": [],
   "source": [
    "# def to_result_ref(result: object):\n",
    "#     for idx, (req_id, Drugbank_ID, name) in result[['req_id', 'Drugbank_ID', 'name']].iterrows():\n",
    "#         suitability.query_db(f\"\"\"\n",
    "#         INSERT INTO pro_carrier_suitability_assessment.result_adverse_effects_ref (req_id, index_id, reference_title, year, summary)\n",
    "#         (\n",
    "#         SELECT '{req_id}', {idx}, title, year, summary\n",
    "#         FROM pro_carrier_suitability_assessment.abstract_adverse_effect\n",
    "#         WHERE abstract like '%{name}%'\n",
    "#         );\n",
    "#         \"\"\")"
   ]
  },
  {
   "cell_type": "code",
   "execution_count": 17,
   "metadata": {
    "ExecuteTime": {
     "end_time": "2021-06-22T08:32:45.631805Z",
     "start_time": "2021-06-22T08:32:45.629499Z"
    }
   },
   "outputs": [],
   "source": [
    "# # 분자 이미지 저장\n",
    "# from rdkit.Chem import Draw\n",
    "# import os\n",
    "\n",
    "# def to_img_dir(req_id: str, ddi_matched: object):\n",
    "#     smiles = pd.DataFrame(ddi_matched[['Drugbank_ID', 'SMILES']])\n",
    "#     os.system(f'mkdir /BiO/projects/polarity/carrier_suitability_assessment/img_result/{req_id}')\n",
    "#     for i, (id, smi) in smiles.iterrows():\n",
    "#         m = Chem.MolFromSmiles(smi)\n",
    "#         Draw.MolToFile(m, f'/BiO/projects/polarity/carrier_suitability_assessment/img_result/{req_id}/{id}.png')"
   ]
  },
  {
   "cell_type": "code",
   "execution_count": null,
   "metadata": {
    "ExecuteTime": {
     "end_time": "2021-06-22T08:16:25.486740Z",
     "start_time": "2021-06-22T08:16:17.881123Z"
    }
   },
   "outputs": [],
   "source": []
  },
  {
   "cell_type": "code",
   "execution_count": null,
   "metadata": {},
   "outputs": [],
   "source": []
  }
 ],
 "metadata": {
  "kernelspec": {
   "display_name": "Python 3",
   "language": "python",
   "name": "python3"
  },
  "language_info": {
   "codemirror_mode": {
    "name": "ipython",
    "version": 3
   },
   "file_extension": ".py",
   "mimetype": "text/x-python",
   "name": "python",
   "nbconvert_exporter": "python",
   "pygments_lexer": "ipython3",
   "version": "3.6.10"
  }
 },
 "nbformat": 4,
 "nbformat_minor": 4
}
