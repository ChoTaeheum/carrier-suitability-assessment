{
 "cells": [
  {
   "cell_type": "code",
   "execution_count": 1,
   "metadata": {
    "ExecuteTime": {
     "end_time": "2021-06-17T05:56:57.289003Z",
     "start_time": "2021-06-17T05:56:56.684637Z"
    }
   },
   "outputs": [],
   "source": [
    "import sys\n",
    "from calldb import CallDB\n",
    "\n",
    "from polarity import Polarity\n",
    "\n",
    "req_id = 'rq0001'\n",
    "\n",
    "suitability = CallDB(\"pro_carrier_suitability_assessment\")\n",
    "interaction = CallDB(\"pro_drug_drug_interaction\")\n",
    "\n",
    "# request table fetch\n",
    "request = suitability.from_db(f\"\"\"\n",
    "SELECT * \n",
    "FROM pro_carrier_suitability_assessment.request \n",
    "WHERE req_id = \"{req_id}\"\n",
    ";\n",
    "\"\"\")\n",
    "\n",
    "# interaction_dict table fetch\n",
    "inter_dict = interaction.from_db(\"\"\"\n",
    "SELECT *\n",
    "FROM pro_drug_drug_interaction.interaction_dictionary\n",
    ";\n",
    "\"\"\")\n",
    "\n",
    "\n",
    "def main(req_id):\n",
    "    global request\n",
    "    global inter_dict\n",
    "    \n",
    "    drug_name = request.loc[0, 'drug_name']\n",
    "    smiles = request.loc[0, 'smiles']\n",
    "    protein_name = request.loc[0, 'protein_name']\n",
    "    sequence = request.loc[0, 'sequence']\n",
    "    weight = request.loc[0, 'weight']\n",
    "    \n",
    "    weight_split = weight.split()\n",
    "    ba_wt = weight_split[0]\n",
    "    ae_wt = weight_split[1]\n",
    "    ddi_wt = weight_split[2]\n",
    "    \n",
    "    # 타겟 약물이 친수성인지 소수성인지 확인\n",
    "    \n",
    "    drug_fp = drug_encoding(smiles)   # 입력 약물\n",
    "    target_embd = target_encoding(sequence)    # 입력타겟, 받는 변수 target_embd 고려\n",
    "    \n",
    "    polarity = Polarity(smiles)    # polarity 예측\n",
    "    carrier_fp, pol_matched = carrier_encoding(polarity) # 예측된 polarity에 의해 적합후보군 추출\n",
    "    \n",
    "    ddi_pred = ddi(drug_fp, carrier_fp)   # ddi 결과 예측\n",
    "    carrier_fp, ddi_type, ddi_matched_type, ddi_matched = pick_candidate(ddi_pred, pol_matched) # ddi 예측 결과 바탕으로 적합후보군 추출\n",
    "    \n",
    "    ba_pred = ba(carrier_fp, target_embd)   # ba 결과 예측\n",
    "    \n",
    "    result = make_df(ba_pred, ddi_type, ddi_matched_type, ddi_matched, pol_matched)\n",
    "    \n",
    "    to_result(result)\n",
    "    to_result_ref(result)\n",
    "    to_img_dir(req_id, ddi_matched)\n",
    "    \n",
    "    \n",
    "    \n",
    "    \n",
    "    \n",
    "\n"
   ]
  },
  {
   "cell_type": "code",
   "execution_count": 12,
   "metadata": {
    "ExecuteTime": {
     "end_time": "2021-06-18T00:40:56.556244Z",
     "start_time": "2021-06-18T00:40:56.367166Z"
    }
   },
   "outputs": [],
   "source": [
    "##################\n",
    "import numpy as np\n",
    "import torch\n",
    "from rdkit import Chem\n",
    "from rdkit.Chem import AllChem\n",
    "\n",
    "# 타겟 약물 인코딩\n",
    "def drug_encoding(smiles: str) -> torch.Tensor:\n",
    "    drug_m = Chem.MolFromSmiles(smiles)\n",
    "    drug_fp = torch.tensor(np.array(AllChem.GetMorganFingerprintAsBitVect(drug_m, 3, nBits=1024)), dtype=torch.float32)\n",
    "    return drug_fp"
   ]
  },
  {
   "cell_type": "code",
   "execution_count": 13,
   "metadata": {
    "ExecuteTime": {
     "end_time": "2021-06-18T00:41:04.389408Z",
     "start_time": "2021-06-18T00:41:04.383012Z"
    }
   },
   "outputs": [],
   "source": [
    "# 전달체 후보군 finger print 불러오기, 데이터베이스 조작에 의해서만 입력값 조정하고 싶음\n",
    "def carrier_encoding(polarity: int) -> torch.Tensor:\n",
    "    pol_matched = suitability.from_db(f\"\"\"\n",
    "    SELECT Drugbank_ID, name, finger_print, block_type, block_score, SMILES\n",
    "    FROM pro_carrier_suitability_assessment.block_type_library \n",
    "    WHERE block_type = {polarity};\n",
    "    \"\"\")\n",
    "    \n",
    "    pol_matched = pol_matched[['Drugbank_ID',\n",
    "                               'name',\n",
    "                               'finger_print',\n",
    "                               'block_type',\n",
    "                               'block_score',\n",
    "                               'SMILES']]\n",
    "    \n",
    "    carrier_fp = []\n",
    "    for i, (_, _, fp, _, _, _) in pol_matched.iterrows():\n",
    "        carrier_fp.append(np.fromstring(fp.replace('', ' '), dtype=int, sep=' '))\n",
    "        \n",
    "    carrier_fp = torch.tensor(carrier_fp, dtype=torch.float32)\n",
    "    return carrier_fp, pol_matched"
   ]
  },
  {
   "cell_type": "code",
   "execution_count": 17,
   "metadata": {
    "ExecuteTime": {
     "end_time": "2021-06-18T04:52:56.403033Z",
     "start_time": "2021-06-18T04:52:56.398908Z"
    },
    "scrolled": false
   },
   "outputs": [],
   "source": [
    "import DDI_runner\n",
    "\n",
    "def ddi(drug_fp: torch.Tensor, carrier_fp: torch.Tensor) -> object:\n",
    "    ddi_pred = DDI_runner.run(drug_fp, carrier_fp)\n",
    "    ddi_pred = list(np.array(ddi_pred.detach()))\n",
    "    return ddi_pred\n"
   ]
  },
  {
   "cell_type": "code",
   "execution_count": null,
   "metadata": {
    "ExecuteTime": {
     "end_time": "2021-06-18T01:57:49.038311Z",
     "start_time": "2021-06-18T01:57:48.789642Z"
    }
   },
   "outputs": [],
   "source": [
    "# DDI 결과를 바탕으로 BA 계산할 전달체 후보 추출\n",
    "import pandas as pd\n",
    "\n",
    "def pick_candidate(ddi_pred: object, pol_matched: object) -> object:\n",
    "    global inter_dict\n",
    "    \n",
    "    # interaction 점수 가져오기\n",
    "    ddi_type = pd.DataFrame(np.array(inter_dict[['label', 'interaction_type']].iloc[ddi_pred]), columns=['label', 'interaction_type']) \n",
    "\n",
    "    # 만족하는 점수만 선택\n",
    "    ddi_matched_type = ddi_type['interaction_type']==inter_type   # 이거 안될 수도 있음, \n",
    "    ddi_matched = pol_matched[['Drugbank_ID', 'finger_print', 'SMILES']].iloc[list(ddi_type.index[ddi_matched_type])]\n",
    "    \n",
    "    carrier_fp = candidate_fp(ddi_matched)   # candidate_fp 함수\n",
    "    \n",
    "    return carrier_fp, ddi_type, ddi_matched_type, ddi_matched"
   ]
  },
  {
   "cell_type": "code",
   "execution_count": 16,
   "metadata": {
    "ExecuteTime": {
     "end_time": "2021-06-18T01:57:49.038311Z",
     "start_time": "2021-06-18T01:57:48.789642Z"
    }
   },
   "outputs": [],
   "source": [
    "# carrier 후보 fingerprint extraction\n",
    "def candicate_fp(ddi_matched; object) -> torch.Tensor:  \n",
    "    carrier_fp = []\n",
    "    for i, (id, fp, _) in ddi_matched.iterrows():\n",
    "        carrier_fp.append(np.fromstring(fp.replace('', ' '), dtype=int, sep=' '))\n",
    "\n",
    "    carrier_fp = torch.tensor(carrier_fp, dtype=torch.float32)\n",
    "    \n",
    "    return carrier_fp"
   ]
  },
  {
   "cell_type": "code",
   "execution_count": 6,
   "metadata": {
    "ExecuteTime": {
     "end_time": "2021-06-17T05:56:58.050865Z",
     "start_time": "2021-06-17T05:56:58.039153Z"
    }
   },
   "outputs": [],
   "source": [
    "# 타겟 단백질 인코딩\n",
    "def target_encoding(sequence:str) -> torch.Tensor:\n",
    "    amino_dict = {s: i for i, s in enumerate(list('ACDEFGHIKLMNOPQRSTVWXY'))}\n",
    "    sequence_embd = [amino_dict[c] for c in sequence.upper()]  # 단백질 시퀀스 숫자로 변환\n",
    "\n",
    "    max_len = 10000\n",
    "    for i in range(max_len - len(sequence_embd)):\n",
    "        sequence_embd.append(0)\n",
    "\n",
    "    sequence_embd = torch.tensor(sequence_embd, dtype=torch.float32)[:2048].view(1, 2048)\n",
    "    sequence_temp = torch.tensor([], dtype=torch.float32).view(0, 2048)\n",
    "\n",
    "    for i in range(len(carrier_fp)):\n",
    "        sequence_temp = torch.cat([sequence_temp, sequence_embd], dim=0)\n",
    "    target_embd = sequence_temp\n",
    "    \n",
    "    return target_embd\n",
    "    "
   ]
  },
  {
   "cell_type": "code",
   "execution_count": 7,
   "metadata": {
    "ExecuteTime": {
     "end_time": "2021-06-17T05:56:58.323190Z",
     "start_time": "2021-06-17T05:56:58.052628Z"
    }
   },
   "outputs": [],
   "source": [
    "# Binding_affinity 예측\n",
    "import BA_runner\n",
    "def ba(carrier_fp: torch.Tensor, target_embd: torch.Tensor) -> object:\n",
    "    \n",
    "    ba_pred = BA_runner.run(carrier_fp, sequence_embd, len(carrier_fp))\n",
    "    ba_pred = np.round(np.array(ba_pred.detach()), 4)\n",
    "    ba_pred = np.where(ba_pred < 0, 0.0001, ba_pred)\n",
    "    return ba_pred"
   ]
  },
  {
   "cell_type": "code",
   "execution_count": 8,
   "metadata": {
    "ExecuteTime": {
     "end_time": "2021-06-17T05:56:58.373315Z",
     "start_time": "2021-06-17T05:56:58.329202Z"
    }
   },
   "outputs": [],
   "source": [
    "# DB_result에 삽입할 DF 만들기\n",
    "\n",
    "def make_df(ba_pred: object, ddi_type: object, ddi_matched_type: object, ddi_matched: object, pol_matched: object): -> object\n",
    "    global inter_dict\n",
    "    \n",
    "    drugbank_id = pd.DataFrame(ddi_matched['Drugbank_ID'], columns=['Drugbank_ID'])\n",
    "    result = drugbank_id\n",
    "    pol_result = pol_matched\n",
    "\n",
    "    ddi_result1 = ddi_type[ddi_matched_type]\n",
    "\n",
    "    ddi_result2 = inter_dict.iloc[list(ddi_type[ddi_matched_type]['label'])][['label', 'interaction']]\n",
    "    ddi_result2 = pd.DataFrame(np.array(ddi_result2), columns=['label', 'interaction'])\n",
    "\n",
    "    ba_result = pd.DataFrame(ba_pred, columns=['ic50', 'ec50'])\n",
    "\n",
    "    request_id = pd.DataFrame({'req_id' : [req_id for i in range(len(result))]})\n",
    "    \n",
    "    result = result.join(ddi_result1).merge(pol_result).join(ba_result).join(ddi_result2[['interaction']]).join(request_id)\n",
    "    result = result[['req_id', 'Drugbank_ID', 'name', 'block_type', 'block_score', 'interaction', 'interaction_type', 'ic50', 'ec50']]\n",
    "    \n",
    "    return result"
   ]
  },
  {
   "cell_type": "code",
   "execution_count": 18,
   "metadata": {
    "ExecuteTime": {
     "end_time": "2021-06-18T09:23:44.096687Z",
     "start_time": "2021-06-18T09:23:44.088788Z"
    }
   },
   "outputs": [],
   "source": [
    "import math\n",
    "\n",
    "def to_result(result: object):\n",
    "    for idx, (req_id, Drugbank_ID, name, block_type, block_score, interaction, interaction_type, ic50, ec50) in result.iterrows():\n",
    "        interaction = interaction.replace('A', drug_name).replace('B', name)\n",
    "\n",
    "        n_ref_ae = suitability.from_db(f\"\"\"\n",
    "        SELECT COUNT(*)\n",
    "        FROM pro_carrier_suitability_assessment.abstract_adverse_effect\n",
    "        WHERE abstract like '%{name}%'\n",
    "        \"\"\"\n",
    "                                      ).iloc[0,0]\n",
    "\n",
    "        total_score = (20 * block_score) + (10 * interaction_type) + (-math.log(ic50)) + (-math.log(ec50))\n",
    "\n",
    "        suitability.query_db(f\"\"\"\n",
    "        INSERT INTO pro_carrier_suitability_assessment.result(req_id, \n",
    "                                                              idx, \n",
    "                                                              Drugbank_ID, \n",
    "                                                              name, \n",
    "                                                              block_type, \n",
    "                                                              block_score, \n",
    "                                                              interaction, \n",
    "                                                              interaction_type, \n",
    "                                                              ic50, ec50, \n",
    "                                                              n_ref_da, \n",
    "                                                              n_ref_ae,\n",
    "                                                              total_score)\n",
    "        VALUES ('{req_id}', \n",
    "                 {idx}, \n",
    "                 '{Drugbank_ID}', \n",
    "                 '{name}', \n",
    "                 {block_type}, \n",
    "                 {round(block_score, 3)}, \n",
    "                 '{interaction}', \n",
    "                 {interaction_type}, \n",
    "                 {round(ic50, 3)}, \n",
    "                 {round(ec50, 3)},\n",
    "                 0, \n",
    "                 {n_ref_ae},\n",
    "                 {total_score});    \n",
    "        \"\"\")\n"
   ]
  },
  {
   "cell_type": "code",
   "execution_count": 19,
   "metadata": {
    "ExecuteTime": {
     "end_time": "2021-06-18T09:23:47.435450Z",
     "start_time": "2021-06-18T09:23:47.431525Z"
    }
   },
   "outputs": [],
   "source": [
    "def to_result_ref(result: object):\n",
    "    for idx, (req_id, Drugbank_ID, name) in result[['req_id', 'Drugbank_ID', 'name']].iterrows():\n",
    "        suitability.query_db(f\"\"\"\n",
    "        INSERT INTO pro_carrier_suitability_assessment.result_adverse_effects_ref (req_id, index_id, reference_title, year, summary)\n",
    "        (\n",
    "        SELECT '{req_id}', {idx}, title, year, summary\n",
    "        FROM pro_carrier_suitability_assessment.abstract_adverse_effect\n",
    "        WHERE abstract like '%{name}%'\n",
    "        );\n",
    "        \"\"\")"
   ]
  },
  {
   "cell_type": "code",
   "execution_count": 12,
   "metadata": {
    "ExecuteTime": {
     "end_time": "2021-06-17T05:56:59.845077Z",
     "start_time": "2021-06-17T05:56:59.706011Z"
    }
   },
   "outputs": [],
   "source": [
    "# 분자 이미지 저장\n",
    "from rdkit.Chem import Draw\n",
    "import os\n",
    "\n",
    "def to_img_dir(req_id: str, ddi_matched: object):\n",
    "    smiles = pd.DataFrame(ddi_matched[['Drugbank_ID', 'SMILES']])\n",
    "    os.system(f'mkdir /BiO/projects/polarity/carrier_suitability_assessment/img_result/{req_id}')\n",
    "    for i, (id, smi) in smiles.iterrows():\n",
    "        m = Chem.MolFromSmiles(smi)\n",
    "        Draw.MolToFile(m, f'/BiO/projects/polarity/carrier_suitability_assessment/img_result/{req_id}/{id}.png')"
   ]
  }
 ],
 "metadata": {
  "kernelspec": {
   "display_name": "Python 3",
   "language": "python",
   "name": "python3"
  },
  "language_info": {
   "codemirror_mode": {
    "name": "ipython",
    "version": 3
   },
   "file_extension": ".py",
   "mimetype": "text/x-python",
   "name": "python",
   "nbconvert_exporter": "python",
   "pygments_lexer": "ipython3",
   "version": "3.6.10"
  }
 },
 "nbformat": 4,
 "nbformat_minor": 4
}
